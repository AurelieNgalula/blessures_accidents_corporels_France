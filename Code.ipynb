{
 "cells": [
  {
   "cell_type": "code",
   "execution_count": 111,
   "id": "9fb8fe66",
   "metadata": {},
   "outputs": [],
   "source": [
    "import os\n",
    "import pandas as pd\n",
    "\n",
    "# Set the base directory\n",
    "base_dir = './Data/'\n",
    "\n",
    "Accidents = []\n",
    "\n",
    "# Loop over the directories\n",
    "for year in ['2019', '2020', '2021']:\n",
    "    # Set the current directory\n",
    "    current_dir = base_dir + year + '/'\n",
    "\n",
    "\n",
    "    # Loop over the files in the current directory\n",
    "    for file in os.listdir(current_dir):\n",
    "        dfusagers = pd.read_csv(current_dir + \"usagers-\" + year + \".csv\", sep=\";\")\n",
    "        dfcaracteristiques = pd.read_csv(current_dir + \"caracteristiques-\" + year + \".csv\", sep=\";\")\n",
    "        dflieux = pd.read_csv(current_dir + \"lieux-\" + year + \".csv\", sep=\";\")\n",
    "        dfvehicles = pd.read_csv(current_dir + \"vehicules-\" + year + \".csv\", sep=\";\")\n",
    "       \n",
    "\n",
    "\n",
    "        #join data frames for a given year\n",
    "        result = pd.merge(dfusagers, dfcaracteristiques, on='Num_Acc')\n",
    "        result = pd.merge(result, dflieux, on='Num_Acc')\n",
    "        result = pd.merge(result, dfvehicles,  on=['Num_Acc','id_vehicule'])\n",
    "     \n",
    "    \n",
    "        #Append data frames in a list \n",
    "        Accidents.append(result)\n",
    "        \n",
    "         \n",
    "        \n",
    "        \n",
    "        \n",
    "#Final data frame of accidents 2019-2021\n",
    "dfAccidents = Accidents[0]\n",
    "\n",
    "for i in range(11):\n",
    "    dfAccidents = pd.concat([dfAccidents, Accidents[i+1]])\n",
    "    "
   ]
  },
  {
   "cell_type": "code",
   "execution_count": 128,
   "id": "3dfee3e5",
   "metadata": {},
   "outputs": [
    {
     "name": "stdout",
     "output_type": "stream",
     "text": [
      "        Num_Acc    an dep    com  agg\n",
      "0  201900000001  2019  93  93053    1\n",
      "1  201900000001  2019  93  93053    1\n",
      "2  201900000001  2019  93  93053    1\n",
      "3  201900000002  2019  93  93066    1\n",
      "4  201900000003  2019  92  92036    1\n"
     ]
    }
   ],
   "source": [
    "#Evolution annuelle du nombre d'accidents par région et departément\n",
    "columns_to_display = ['Num_Acc', 'an','dep','com','agg'] \n",
    "\n",
    "print(dfAccidents[columns_to_display].head())"
   ]
  },
  {
   "cell_type": "code",
   "execution_count": 129,
   "id": "789c3699",
   "metadata": {},
   "outputs": [
    {
     "name": "stdout",
     "output_type": "stream",
     "text": [
      "an    agg\n",
      "2019  1      200744\n",
      "      2      331164\n",
      "2020  1      157708\n",
      "      2      263472\n",
      "2021  1      193616\n",
      "      2      322996\n",
      "Name: Num_Acc, dtype: int64\n"
     ]
    }
   ],
   "source": [
    "result = dfAccidents.groupby(['an','agg'])['Num_Acc'].size()\n",
    "print(result)"
   ]
  },
  {
   "cell_type": "code",
   "execution_count": null,
   "id": "42902b0a",
   "metadata": {},
   "outputs": [],
   "source": []
  },
  {
   "cell_type": "code",
   "execution_count": null,
   "id": "44b9e1e5",
   "metadata": {},
   "outputs": [],
   "source": []
  }
 ],
 "metadata": {
  "kernelspec": {
   "display_name": "Python 3 (ipykernel)",
   "language": "python",
   "name": "python3"
  },
  "language_info": {
   "codemirror_mode": {
    "name": "ipython",
    "version": 3
   },
   "file_extension": ".py",
   "mimetype": "text/x-python",
   "name": "python",
   "nbconvert_exporter": "python",
   "pygments_lexer": "ipython3",
   "version": "3.9.12"
  }
 },
 "nbformat": 4,
 "nbformat_minor": 5
}
