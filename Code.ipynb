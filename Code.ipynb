{
 "cells": [
  {
   "cell_type": "code",
   "execution_count": 103,
   "id": "9fb8fe66",
   "metadata": {},
   "outputs": [],
   "source": [
    "import os\n",
    "import pandas as pd\n",
    "\n",
    "# Set the base directory\n",
    "base_dir = './Data/'\n",
    "\n",
    "Accidents = []\n",
    "\n",
    "# Loop over the directories\n",
    "for year in ['2019', '2020', '2021']:\n",
    "    # Set the current directory\n",
    "    current_dir = base_dir + year + '/'\n",
    "\n",
    "\n",
    "    # Loop over the files in the current directory\n",
    "    for file in os.listdir(current_dir):\n",
    "        dfusagers = pd.read_csv(current_dir + \"usagers-\" + year + \".csv\", sep=\";\")\n",
    "        dfcaracteristiques = pd.read_csv(current_dir + \"caracteristiques-\" + year + \".csv\", sep=\";\")\n",
    "        dflieux = pd.read_csv(current_dir + \"lieux-\" + year + \".csv\", sep=\";\")\n",
    "        dfvehicles = pd.read_csv(current_dir + \"vehicules-\" + year + \".csv\", sep=\";\")\n",
    "       \n",
    "\n",
    "\n",
    "        #join data frames for a given year\n",
    "        result = pd.merge(dfusagers, dfcaracteristiques, on='Num_Acc')\n",
    "        result = pd.merge(result, dflieux, on='Num_Acc')\n",
    "        result = pd.merge(result, dfvehicles,  on=['Num_Acc','id_vehicule'])\n",
    "    \n",
    "        Accidents.append(result)\n",
    "\n",
    "\n"
   ]
  },
  {
   "cell_type": "code",
   "execution_count": 104,
   "id": "5d55363b",
   "metadata": {},
   "outputs": [],
   "source": [
    "dfAccidents = pd.concat([Accidents[0], Accidents[1]])\n",
    "dfAccidents = pd.concat([dfAccidents, Accidents[2]])\n"
   ]
  }
 ],
 "metadata": {
  "kernelspec": {
   "display_name": "Python 3 (ipykernel)",
   "language": "python",
   "name": "python3"
  },
  "language_info": {
   "codemirror_mode": {
    "name": "ipython",
    "version": 3
   },
   "file_extension": ".py",
   "mimetype": "text/x-python",
   "name": "python",
   "nbconvert_exporter": "python",
   "pygments_lexer": "ipython3",
   "version": "3.9.12"
  }
 },
 "nbformat": 4,
 "nbformat_minor": 5
}
