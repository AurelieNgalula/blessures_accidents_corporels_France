{
  "cells": [
    {
      "cell_type": "markdown",
      "source": [
        "# Mounting content at drive"
      ],
      "metadata": {
        "id": "T6JdKrCyIh_f"
      },
      "id": "T6JdKrCyIh_f"
    },
    {
      "cell_type": "code",
      "source": [
        "from google.colab import drive\n",
        "drive.mount('/content/drive')"
      ],
      "metadata": {
        "colab": {
          "base_uri": "https://localhost:8080/"
        },
        "id": "pJzwAdbXIn0A",
        "outputId": "33c85a98-5f64-47e9-b9be-0988ebb61690"
      },
      "id": "pJzwAdbXIn0A",
      "execution_count": 2,
      "outputs": [
        {
          "output_type": "stream",
          "name": "stdout",
          "text": [
            "Mounted at /content/drive\n"
          ]
        }
      ]
    },
    {
      "cell_type": "markdown",
      "source": [
        "# Libraries"
      ],
      "metadata": {
        "id": "mWF560QLI4Ee"
      },
      "id": "mWF560QLI4Ee"
    },
    {
      "cell_type": "code",
      "execution_count": 3,
      "id": "9fb8fe66",
      "metadata": {
        "id": "9fb8fe66"
      },
      "outputs": [],
      "source": [
        "#Libraries\n",
        "import os\n",
        "import pandas as pd\n",
        "import numpy as np\n",
        "import matplotlib.pyplot as plt\n",
        "import seaborn as sns\n",
        "\n",
        "from matplotlib.colors import LogNorm\n",
        "\n",
        "\n",
        "# Set the base directory\n",
        "#base_dir = './Data/'\n",
        "\n",
        "# Set the base directory\n",
        "base_dir ='/content/drive/MyDrive/ENSAE/Cursos/S1/MACHINE LEARNING WITH PYTHON/Proyecto Final/Data/'\n",
        "    "
      ]
    },
    {
      "cell_type": "markdown",
      "source": [
        "# First part: Joining the 4 tables in a single dataframe\n",
        "\n"
      ],
      "metadata": {
        "id": "wYlWBnqUfI_U"
      },
      "id": "wYlWBnqUfI_U"
    },
    {
      "cell_type": "code",
      "execution_count": 4,
      "id": "91068191",
      "metadata": {
        "id": "91068191"
      },
      "outputs": [],
      "source": [
        "#2019-2021\n",
        "Accidents = []\n",
        "\n",
        "# Loop over the directories\n",
        "for year in ['2019', '2020', '2021']:\n",
        "    # Set the current directory\n",
        "    current_dir = base_dir + year + '/'\n",
        "\n",
        "\n",
        "    # Loop over the files in the current directory\n",
        "    for file in os.listdir(current_dir):\n",
        "        dfusagers = pd.read_csv(current_dir + \"usagers-\" + year + \".csv\", sep=\";\")\n",
        "        dfcaracteristiques = pd.read_csv(current_dir + \"caracteristiques-\" + year + \".csv\", sep=\";\")\n",
        "        dflieux = pd.read_csv(current_dir + \"lieux-\" + year + \".csv\", sep=\";\")\n",
        "        dfvehicles = pd.read_csv(current_dir + \"vehicules-\" + year + \".csv\", sep=\";\")\n",
        "       \n",
        "\n",
        "\n",
        "        #join data frames for a given year\n",
        "        result = pd.merge(dfusagers, dfcaracteristiques, on='Num_Acc')\n",
        "        result = pd.merge(result, dflieux, on='Num_Acc')\n",
        "        result = pd.merge(result, dfvehicles,  on=['Num_Acc','id_vehicule'])\n",
        "     \n",
        "    \n",
        "        #Append data frames in a list \n",
        "        Accidents.append(result)\n",
        "        \n",
        "                       \n",
        "        \n",
        "#Final data frame of accidents 2019-2021\n",
        "dfAccidents = Accidents[0]\n",
        "\n",
        "for i in range(11):\n",
        "    dfAccidents = pd.concat([dfAccidents, Accidents[i+1]])"
      ]
    },
    {
      "cell_type": "code",
      "execution_count": 5,
      "id": "361331e2",
      "metadata": {
        "colab": {
          "base_uri": "https://localhost:8080/"
        },
        "id": "361331e2",
        "outputId": "b1821d62-6bb1-4119-9eb9-e97f0c15857e"
      },
      "outputs": [
        {
          "output_type": "execute_result",
          "data": {
            "text/plain": [
              "array([3, 1, 2])"
            ]
          },
          "metadata": {},
          "execution_count": 5
        }
      ],
      "source": [
        "#Grouping target variable and disregarding the \"usagers en fuite\"\n",
        "\n",
        "def label_values(value):\n",
        "    if value == 4:\n",
        "        return 3\n",
        "    else:\n",
        "        return value\n",
        "    \n",
        "dfAccidents[\"grav_2\"] = dfAccidents[\"grav\"].apply(label_values)\n",
        "\n",
        "condition = dfAccidents['grav_2'] == -1 \n",
        "dfAccidents.drop(dfAccidents[condition].index, inplace=True)\n",
        "\n",
        "dfAccidents.grav_2.unique()    "
      ]
    },
    {
      "cell_type": "markdown",
      "source": [
        "# Second part: Exploration and data cleanning"
      ],
      "metadata": {
        "id": "b6csDTdiXW6K"
      },
      "id": "b6csDTdiXW6K"
    },
    {
      "cell_type": "code",
      "source": [
        "# Plot the percentage of rows for each category\n",
        "grouped = dfAccidents.groupby('grav_2').size()\n",
        "grouped = grouped.apply(lambda x: x / len(dfAccidents) * 100)\n",
        "grouped.plot(kind='bar')\n",
        "plt.ylabel(\"%\")\n",
        "plt.xlabel(\"1-Indemne   2-Tué   3-Blessé\")\n",
        "plt.title(\"Gravité de blessure de l'usager\")\n",
        "plt.show()"
      ],
      "metadata": {
        "colab": {
          "base_uri": "https://localhost:8080/",
          "height": 292
        },
        "id": "i6n4Blh3iiE7",
        "outputId": "e3fd1955-1a28-469d-9022-8ffbd19a865f"
      },
      "id": "i6n4Blh3iiE7",
      "execution_count": 6,
      "outputs": [
        {
          "output_type": "display_data",
          "data": {
            "text/plain": [
              "<Figure size 432x288 with 1 Axes>"
            ],
            "image/png": "[encoded data removed]"
          },
          "metadata": {
            "needs_background": "light"
          }
        }
      ]
    },
    {
      "cell_type": "code",
      "source": [
        "#Agg\n",
        "unique_values = dfAccidents[\"agg\"].unique()\n",
        "print(unique_values)\n",
        "\n",
        "# Plot the percentage of rows for each category\n",
        "grouped = dfAccidents.groupby('agg').size()\n",
        "grouped = grouped.apply(lambda x: x / len(dfAccidents) * 100)\n",
        "grouped.plot(kind='bar')\n",
        "plt.ylabel(\"%\")\n",
        "plt.xlabel(\"1-hors agglomération      2-agglomération\")\n",
        "plt.title(\"Localisation\")\n",
        "plt.show()"
      ],
      "metadata": {
        "colab": {
          "base_uri": "https://localhost:8080/",
          "height": 309
        },
        "id": "_CRT135TSWwH",
        "outputId": "02f69c10-fa3b-4ba6-f8fd-3bab6e781f75"
      },
      "id": "_CRT135TSWwH",
      "execution_count": 7,
      "outputs": [
        {
          "output_type": "stream",
          "name": "stdout",
          "text": [
            "[1 2]\n"
          ]
        },
        {
          "output_type": "display_data",
          "data": {
            "text/plain": [
              "<Figure size 432x288 with 1 Axes>"
            ],
            "image/png": "[encoded data removed]"
          },
          "metadata": {
            "needs_background": "light"
          }
        }
      ]
    },
    {
      "cell_type": "code",
      "source": [
        "x=\"grav_2\"\n",
        "y=\"agg\"\n",
        "(dfAccidents.groupby(x)[y].value_counts(normalize=True)\n",
        ".mul(100)\n",
        ".rename('percent')\n",
        ".reset_index()\n",
        ".pipe((sns.catplot,'data'), x=x,y='percent',hue=y,kind='bar'))\n",
        "\n",
        "\n",
        "plt.ylabel(\"%\")\n",
        "plt.title(\"Localisation\")\n",
        "plt.show()"
      ],
      "metadata": {
        "colab": {
          "base_uri": "https://localhost:8080/",
          "height": 383
        },
        "id": "VIBrrAtSStoN",
        "outputId": "a06e3e2a-69d8-4934-c1d6-6a896c4535b1"
      },
      "id": "VIBrrAtSStoN",
      "execution_count": 8,
      "outputs": [
        {
          "output_type": "display_data",
          "data": {
            "text/plain": [
              "<Figure size 402.375x360 with 1 Axes>"
            ],
            "image/png": "[encoded data removed]"
          },
          "metadata": {
            "needs_background": "light"
          }
        }
      ]
    },
    {
      "cell_type": "code",
      "execution_count": 9,
      "id": "4b5207d7",
      "metadata": {
        "id": "4b5207d7",
        "colab": {
          "base_uri": "https://localhost:8080/",
          "height": 295
        },
        "outputId": "5baf05cb-50f5-4fa9-a347-2a66d36fb21f"
      },
      "outputs": [
        {
          "output_type": "display_data",
          "data": {
            "text/plain": [
              "<Figure size 432x288 with 1 Axes>"
            ],
            "image/png": "[encoded data removed]"
          },
          "metadata": {
            "needs_background": "light"
          }
        }
      ],
      "source": [
        "#vma\n",
        "dfAccidents['vma'] = pd.to_numeric(dfAccidents['vma'], errors='coerce')\n",
        "dfAccidents.loc[dfAccidents['vma'] > 130, 'vma'] /= 10\n",
        "unique_values = dfAccidents['vma'].unique()\n",
        "\n",
        "\n",
        "sns.histplot(dfAccidents['vma'], element='step', bins=12)\n",
        "plt.title(\"Vitesse maximale\")\n",
        "plt.ylabel(\"N\")\n",
        "plt.show()\n"
      ]
    },
    {
      "cell_type": "code",
      "execution_count": 10,
      "id": "7ed53dfb",
      "metadata": {
        "colab": {
          "base_uri": "https://localhost:8080/",
          "height": 573
        },
        "id": "7ed53dfb",
        "outputId": "190818ce-17c4-421e-ae39-017ac8387012"
      },
      "outputs": [
        {
          "output_type": "display_data",
          "data": {
            "text/plain": [
              "<Figure size 432x288 with 1 Axes>"
            ],
            "image/png": "[encoded data removed]"
          },
          "metadata": {
            "needs_background": "light"
          }
        },
        {
          "output_type": "display_data",
          "data": {
            "text/plain": [
              "<Figure size 432x288 with 1 Axes>"
            ],
            "image/png": "[encoded data removed]"
          },
          "metadata": {
            "needs_background": "light"
          }
        }
      ],
      "source": [
        "#Vitesse\n",
        "\n",
        "data1 = dfAccidents.query('grav_2 == 1' or 'grav_2 == 3')\n",
        "data2 = dfAccidents.query('grav_2 == 2')\n",
        "\n",
        "\n",
        "sns.histplot(data1[\"vma\"], element='step', bins=12)\n",
        "plt.title(\"Indemne ou Blessé\")\n",
        "plt.ylabel(\"N\")\n",
        "plt.show()\n",
        "\n",
        "\n",
        "sns.histplot(data2[\"vma\"], element='step', bins=12)\n",
        "plt.title(\"Tué\")\n",
        "plt.ylabel(\"N\")\n",
        "plt.show()\n",
        "\n"
      ]
    },
    {
      "cell_type": "code",
      "execution_count": 11,
      "id": "2d0bce0a",
      "metadata": {
        "colab": {
          "base_uri": "https://localhost:8080/",
          "height": 385
        },
        "id": "2d0bce0a",
        "outputId": "cd320cbf-020a-4c7f-efa7-375df4b25fcf"
      },
      "outputs": [
        {
          "output_type": "display_data",
          "data": {
            "text/plain": [
              "<Figure size 402.375x360 with 1 Axes>"
            ],
            "image/png": "[encoded data removed]"
          },
          "metadata": {
            "needs_background": "light"
          }
        }
      ],
      "source": [
        "x=\"grav_2\"\n",
        "y=\"catu\"\n",
        "(dfAccidents.groupby(x)[y].value_counts(normalize=True)\n",
        ".mul(100)\n",
        ".rename('percent')\n",
        ".reset_index()\n",
        ".pipe((sns.catplot,'data'), x=x,y='percent',hue=y,kind='bar'))\n",
        "\n",
        "\n",
        "plt.ylabel(\"%\")\n",
        "plt.title(\"Catégorie d'usager\")\n",
        "plt.show()\n",
        "\n"
      ]
    },
    {
      "cell_type": "code",
      "source": [
        "#User category\n",
        "\n",
        "# Plot the percentage of rows for each category\n",
        "\n",
        "\n",
        "# Plot the percentage of rows for each category\n",
        "grouped = dfAccidents.groupby('catu').size()\n",
        "grouped = grouped.apply(lambda x: x / len(dfAccidents) * 100)\n",
        "grouped.plot(kind='bar')\n",
        "plt.ylabel(\"%\")\n",
        "plt.xlabel(\"1-Conducteur   2-Passager   3-Piéton\")\n",
        "plt.title(\"Catégorie d'usager\")\n",
        "plt.show()\n"
      ],
      "metadata": {
        "colab": {
          "base_uri": "https://localhost:8080/",
          "height": 292
        },
        "id": "YWMmTo11AdbS",
        "outputId": "74fbddad-48b0-467b-da78-e2723b72a5ac"
      },
      "id": "YWMmTo11AdbS",
      "execution_count": 12,
      "outputs": [
        {
          "output_type": "display_data",
          "data": {
            "text/plain": [
              "<Figure size 432x288 with 1 Axes>"
            ],
            "image/png": "[encoded data removed]"
          },
          "metadata": {
            "needs_background": "light"
          }
        }
      ]
    },
    {
      "cell_type": "code",
      "execution_count": 13,
      "id": "29178530",
      "metadata": {
        "id": "29178530",
        "outputId": "af0ac6e5-dbf7-487b-c8ea-8c3f4ddbbf7e",
        "colab": {
          "base_uri": "https://localhost:8080/"
        }
      },
      "outputs": [
        {
          "output_type": "stream",
          "name": "stdout",
          "text": [
            "grav_2          1         2          3\n",
            "catu                                  \n",
            "1       47.246815  2.449517  50.303668\n",
            "2       36.515339  2.128957  61.355705\n",
            "3        2.954781  4.898171  92.147049\n"
          ]
        }
      ],
      "source": [
        "table = pd.crosstab(dfAccidents['catu'], dfAccidents['grav_2'])\n",
        "table_percent = table.apply(lambda x: x/x.sum()*100, axis=1)\n",
        "print(table_percent)"
      ]
    },
    {
      "cell_type": "code",
      "source": [
        "#Gender\n",
        "unique_values = dfAccidents[\"sexe\"].unique()\n",
        "print(unique_values)\n",
        "\n",
        "# Plot the percentage of rows for each category\n",
        "grouped = dfAccidents.groupby('sexe').size()\n",
        "grouped = grouped.apply(lambda x: x / len(dfAccidents) * 100)\n",
        "grouped.plot(kind='bar')\n",
        "plt.ylabel(\"%\")\n",
        "plt.xlabel(\"1-Masculin  2-Féminin \")\n",
        "plt.title(\"Sexe de l'usager\")\n",
        "plt.show()\n",
        "\n",
        "#Missing values represent less than 1% of records. They are filled in with the mode \n",
        "dfAccidents.loc[(dfAccidents[\"sexe\"] == -1), 'sexe']=dfAccidents[\"sexe\"].mode()[0]"
      ],
      "metadata": {
        "colab": {
          "base_uri": "https://localhost:8080/",
          "height": 312
        },
        "id": "odBeDGjcoq5a",
        "outputId": "3f7e1199-2c3b-4b7d-f576-0d13467e90aa"
      },
      "id": "odBeDGjcoq5a",
      "execution_count": 14,
      "outputs": [
        {
          "output_type": "stream",
          "name": "stdout",
          "text": [
            "[ 2  1 -1]\n"
          ]
        },
        {
          "output_type": "display_data",
          "data": {
            "text/plain": [
              "<Figure size 432x288 with 1 Axes>"
            ],
            "image/png": "[encoded data removed]"
          },
          "metadata": {
            "needs_background": "light"
          }
        }
      ]
    },
    {
      "cell_type": "code",
      "source": [
        "x=\"grav_2\"\n",
        "y=\"sexe\"\n",
        "(dfAccidents.groupby(x)[y].value_counts(normalize=True)\n",
        ".mul(100)\n",
        ".rename('percent')\n",
        ".reset_index()\n",
        ".pipe((sns.catplot,'data'), x=x,y='percent',hue=y,kind='bar'))\n",
        "\n",
        "\n",
        "plt.ylabel(\"%\")\n",
        "plt.title(\"Sexe de l'usager\")\n",
        "plt.show()"
      ],
      "metadata": {
        "colab": {
          "base_uri": "https://localhost:8080/",
          "height": 385
        },
        "id": "clmuU51yGetO",
        "outputId": "a363c721-985c-4db2-c781-c34d9d955fc7"
      },
      "id": "clmuU51yGetO",
      "execution_count": 15,
      "outputs": [
        {
          "output_type": "display_data",
          "data": {
            "text/plain": [
              "<Figure size 402.375x360 with 1 Axes>"
            ],
            "image/png": "[encoded data removed]"
          },
          "metadata": {
            "needs_background": "light"
          }
        }
      ]
    },
    {
      "cell_type": "code",
      "execution_count": 16,
      "id": "8202d085",
      "metadata": {
        "colab": {
          "base_uri": "https://localhost:8080/",
          "height": 469
        },
        "id": "8202d085",
        "outputId": "01fae609-96b7-4bb7-8206-dc1a2cb63bc1"
      },
      "outputs": [
        {
          "output_type": "stream",
          "name": "stdout",
          "text": [
            "[2002. 1993. 1959. 1994. 1996. 1930. 1995. 1966. 1978. 1984. 1997. 1998.\n",
            " 1999. 1936. 1991. 1985. 1953. 2000. 1967. 1969. 1970. 1963. 1988. 1990.\n",
            " 1992. 1975. 1971. 1946. 1980. 2015. 1981. 1989. 1976. 1974. 1983. 1973.\n",
            " 2008. 1968. 1982. 1962. 1979. 2001. 2003. 1928. 1987. 2004. 2006. 1958.\n",
            " 1986. 1952. 1964. 1977. 1955. 1944. 1965. 1951. 1960. 1932. 2010. 1948.\n",
            " 1961. 1972. 1941. 1954. 1943. 1957. 1949. 1940. 1937. 2011. 2013. 2016.\n",
            " 1931. 1926. 2005. 1942. 1939. 1933. 1934. 2007. 1924. 2014. 2018. 2017.\n",
            " 2012. 1945. 1938. 1956. 1929. 2009. 1947. 1950. 1935. 2019. 1927. 1900.\n",
            " 1920. 1925. 1901. 1923. 1922. 1919. 1921. 1911. 2020. 1910.   nan 2021.\n",
            " 1912.]\n"
          ]
        },
        {
          "output_type": "display_data",
          "data": {
            "text/plain": [
              "<Figure size 432x288 with 1 Axes>"
            ],
            "image/png": "[encoded data removed]"
          },
          "metadata": {
            "needs_background": "light"
          }
        }
      ],
      "source": [
        "#Age in years at the date of the accident\n",
        "dfAccidents['Age'] = dfAccidents['an'] - dfAccidents['an_nais']\n",
        "unique_values = dfAccidents['an_nais'].unique()\n",
        "print(unique_values)\n",
        "\n",
        "\n",
        "\n",
        "sns.histplot(dfAccidents['Age'], element='step')\n",
        "plt.title(\"Age de l'usager\")\n",
        "plt.ylabel(\"N\")\n",
        "plt.show()\n",
        "\n"
      ]
    },
    {
      "cell_type": "code",
      "execution_count": 17,
      "id": "4dff69ca",
      "metadata": {
        "id": "4dff69ca",
        "colab": {
          "base_uri": "https://localhost:8080/"
        },
        "outputId": "4df861e7-bc24-428c-8b6f-bf3284fc5ae9"
      },
      "outputs": [
        {
          "output_type": "stream",
          "name": "stdout",
          "text": [
            "12028\n",
            "796\n"
          ]
        }
      ],
      "source": [
        "#Extreme and missing values are filled in with average age\n",
        "\n",
        "missing_values = dfAccidents.isna().sum()['Age']\n",
        "print(missing_values)\n",
        "dfAccidents['Age'].fillna(dfAccidents['Age'].mean(), inplace=True)\n",
        "\n",
        "\n",
        "extreme_values = dfAccidents.loc[(dfAccidents[\"Age\"] > 100), 'Age']\n",
        "print(len(extreme_values))\n",
        "dfAccidents.loc[(dfAccidents[\"Age\"] > 100), 'Age']=dfAccidents[\"Age\"].mean() \n",
        "\n",
        "\n"
      ]
    },
    {
      "cell_type": "code",
      "execution_count": 18,
      "id": "508a3ef6",
      "metadata": {
        "scrolled": true,
        "colab": {
          "base_uri": "https://localhost:8080/",
          "height": 296
        },
        "id": "508a3ef6",
        "outputId": "5f392886-906e-445b-f8b6-cd548cf46ff9"
      },
      "outputs": [
        {
          "output_type": "display_data",
          "data": {
            "text/plain": [
              "<Figure size 432x288 with 1 Axes>"
            ],
            "image/png": "[encoded data removed]"
          },
          "metadata": {
            "needs_background": "light"
          }
        }
      ],
      "source": [
        "sns.boxplot(x='grav_2', y='Age', data=dfAccidents)\n",
        "plt.title(\"Age de l'usager\")\n",
        "plt.show()"
      ]
    },
    {
      "cell_type": "code",
      "execution_count": 19,
      "id": "cf6b3d6b",
      "metadata": {
        "id": "cf6b3d6b",
        "colab": {
          "base_uri": "https://localhost:8080/"
        },
        "outputId": "59b84753-6a18-4e8f-bb11-b987867d0e95"
      },
      "outputs": [
        {
          "output_type": "stream",
          "name": "stdout",
          "text": [
            "[ 900  845  500 ... 1153 1267 1423]\n"
          ]
        },
        {
          "output_type": "execute_result",
          "data": {
            "text/plain": [
              "-1"
            ]
          },
          "metadata": {},
          "execution_count": 19
        }
      ],
      "source": [
        "#pr_1\n",
        "dfAccidents.loc[dfAccidents['pr1'] == '(1)', 'pr1'] = '-1'\n",
        "dfAccidents['pr1'] = pd.to_numeric(dfAccidents['pr1'], errors='coerce')\n",
        "unique_values = dfAccidents['pr1'].unique()\n",
        "print(unique_values)\n",
        "min(unique_values)"
      ]
    },
    {
      "cell_type": "code",
      "execution_count": 20,
      "id": "23940ab3",
      "metadata": {
        "id": "23940ab3",
        "colab": {
          "base_uri": "https://localhost:8080/"
        },
        "outputId": "cc8f7cf7-44b2-45be-9a1c-4be56068fb59"
      },
      "outputs": [
        {
          "output_type": "stream",
          "name": "stderr",
          "text": [
            "<ipython-input-20-60308f7ed6ee>:2: FutureWarning: The default value of regex will change from True to False in a future version. In addition, single character regular expressions will *not* be treated as literal strings when regex=True.\n",
            "  dfAccidents['lartpc'] = dfAccidents['lartpc'].str.replace('.', ',')\n"
          ]
        },
        {
          "output_type": "stream",
          "name": "stdout",
          "text": [
            "[nan  0.  3.  8.  4.  2. 42. 15. 20.  5.  6. 40. 13.]\n"
          ]
        },
        {
          "output_type": "execute_result",
          "data": {
            "text/plain": [
              "nan"
            ]
          },
          "metadata": {},
          "execution_count": 20
        }
      ],
      "source": [
        "#lartpc\n",
        "dfAccidents['lartpc'] = dfAccidents['lartpc'].str.replace('.', ',')\n",
        "dfAccidents['lartpc'] = pd.to_numeric(dfAccidents['lartpc'], errors='coerce')\n",
        "unique_values = dfAccidents['lartpc'].unique()\n",
        "print(unique_values)\n",
        "min(unique_values)"
      ]
    },
    {
      "cell_type": "code",
      "execution_count": 21,
      "id": "3860e146",
      "metadata": {
        "id": "3860e146",
        "colab": {
          "base_uri": "https://localhost:8080/"
        },
        "outputId": "63447ac2-d7a7-43b4-9cc2-7d78b8ebebc1"
      },
      "outputs": [
        {
          "output_type": "stream",
          "name": "stderr",
          "text": [
            "<ipython-input-21-412a79719847>:2: FutureWarning: The default value of regex will change from True to False in a future version. In addition, single character regular expressions will *not* be treated as literal strings when regex=True.\n",
            "  dfAccidents['larrout'] = dfAccidents['larrout'].str.replace('.', ',')\n"
          ]
        },
        {
          "output_type": "stream",
          "name": "stdout",
          "text": [
            "[ nan  -1.   5.   7.   4.   6.  14.   0.  10.   9.   3.  12.  21.   8.\n",
            "  17.  24.  11.  15.  18.  46.  13.  16. 105.  20.  19.  30.]\n"
          ]
        },
        {
          "output_type": "execute_result",
          "data": {
            "text/plain": [
              "nan"
            ]
          },
          "metadata": {},
          "execution_count": 21
        }
      ],
      "source": [
        "#larrout\n",
        "dfAccidents['larrout'] = dfAccidents['larrout'].str.replace('.', ',')\n",
        "dfAccidents['larrout'] = pd.to_numeric(dfAccidents['larrout'], errors='coerce')\n",
        "unique_values = dfAccidents['larrout'].unique()\n",
        "print(unique_values)\n",
        "min(unique_values)"
      ]
    },
    {
      "cell_type": "code",
      "source": [
        "#Boxplot continuous variables\n",
        "sns.boxplot(x='grav_2', y='pr1', data=dfAccidents)\n",
        "plt.title(\"Distance à la borne amont\")\n",
        "plt.show()"
      ],
      "metadata": {
        "colab": {
          "base_uri": "https://localhost:8080/",
          "height": 296
        },
        "id": "RyLwXSzC5PEp",
        "outputId": "86858fbc-6be9-40f7-aeb9-4ec6b4f38e1b"
      },
      "id": "RyLwXSzC5PEp",
      "execution_count": 22,
      "outputs": [
        {
          "output_type": "display_data",
          "data": {
            "text/plain": [
              "<Figure size 432x288 with 1 Axes>"
            ],
            "image/png": "[encoded data removed]"
          },
          "metadata": {
            "needs_background": "light"
          }
        }
      ]
    },
    {
      "cell_type": "code",
      "source": [
        "#Boxplot continuous variables\n",
        "sns.boxplot(x='grav_2', y='larrout', data=dfAccidents)\n",
        "plt.title(\"Largeur de la chaussée affectée\")\n",
        "plt.show()"
      ],
      "metadata": {
        "colab": {
          "base_uri": "https://localhost:8080/",
          "height": 296
        },
        "id": "Epy5JbV-5fw6",
        "outputId": "e316c43a-d436-4bfc-abb4-389fe6799f62"
      },
      "id": "Epy5JbV-5fw6",
      "execution_count": 23,
      "outputs": [
        {
          "output_type": "display_data",
          "data": {
            "text/plain": [
              "<Figure size 432x288 with 1 Axes>"
            ],
            "image/png": "[encoded data removed]"
          },
          "metadata": {
            "needs_background": "light"
          }
        }
      ]
    },
    {
      "cell_type": "code",
      "source": [
        "#Boxplot continuous variables\n",
        "sns.boxplot(x='grav_2', y='lartpc', data=dfAccidents)\n",
        "plt.title(\"Largeur du terre-plein central\")\n",
        "plt.show()"
      ],
      "metadata": {
        "colab": {
          "base_uri": "https://localhost:8080/",
          "height": 296
        },
        "id": "9LuNJJyn5xft",
        "outputId": "527bfacd-52f3-43bb-8dc6-d0dba57d4b97"
      },
      "id": "9LuNJJyn5xft",
      "execution_count": 24,
      "outputs": [
        {
          "output_type": "display_data",
          "data": {
            "text/plain": [
              "<Figure size 432x288 with 1 Axes>"
            ],
            "image/png": "[encoded data removed]"
          },
          "metadata": {
            "needs_background": "light"
          }
        }
      ]
    },
    {
      "cell_type": "code",
      "source": [
        "#Luminosité\n",
        "unique_values = dfAccidents[\"lum\"].unique()\n",
        "print(unique_values)\n",
        "\n",
        "# Plot the percentage of rows for each category\n",
        "grouped = dfAccidents.groupby('lum').size()\n",
        "grouped = grouped.apply(lambda x: x / len(dfAccidents) * 100)\n",
        "grouped.plot(kind='bar')\n",
        "plt.ylabel(\"%\")\n",
        "plt.title(\"Lumière\")\n",
        "plt.show()\n",
        "\n",
        "#Missing values represent less than 1% of records. They are filled in with the mode \n",
        "dfAccidents.loc[(dfAccidents[\"lum\"] == -1), 'lum']=dfAccidents[\"lum\"].mode()[0]"
      ],
      "metadata": {
        "colab": {
          "base_uri": "https://localhost:8080/",
          "height": 312
        },
        "id": "t-hZI7ETGDs2",
        "outputId": "38e07cdc-4ab3-4df8-db9c-4ba68bfe9c08"
      },
      "id": "t-hZI7ETGDs2",
      "execution_count": 25,
      "outputs": [
        {
          "output_type": "stream",
          "name": "stdout",
          "text": [
            "[ 4  3  1  5  2 -1]\n"
          ]
        },
        {
          "output_type": "display_data",
          "data": {
            "text/plain": [
              "<Figure size 432x288 with 1 Axes>"
            ],
            "image/png": "[encoded data removed]"
          },
          "metadata": {
            "needs_background": "light"
          }
        }
      ]
    },
    {
      "cell_type": "code",
      "source": [
        "#Grouping of categories 4 and 5\n",
        "dfAccidents.loc[(dfAccidents[\"lum\"] == 5), 'lum']=4\n",
        "\n",
        "grouped = dfAccidents.groupby('lum').size()\n",
        "grouped = grouped.apply(lambda x: x / len(dfAccidents) * 100)\n",
        "grouped.plot(kind='bar')\n",
        "plt.ylabel(\"%\")\n",
        "plt.xlabel(\"1-Plein jour   2-Crépuscule ou aube   3-Nuit sans éclairage public   4-Nuit avec éclairage public\")\n",
        "plt.title(\"Lumière\")\n",
        "plt.show()\n"
      ],
      "metadata": {
        "colab": {
          "base_uri": "https://localhost:8080/",
          "height": 292
        },
        "id": "OluJioqPHVPI",
        "outputId": "e627714c-62b9-4abf-84f4-03d4754a17d4"
      },
      "id": "OluJioqPHVPI",
      "execution_count": 26,
      "outputs": [
        {
          "output_type": "display_data",
          "data": {
            "text/plain": [
              "<Figure size 432x288 with 1 Axes>"
            ],
            "image/png": "[encoded data removed]"
          },
          "metadata": {
            "needs_background": "light"
          }
        }
      ]
    },
    {
      "cell_type": "code",
      "source": [
        "x=\"grav_2\"\n",
        "y=\"lum\"\n",
        "(dfAccidents.groupby(x)[y].value_counts(normalize=True)\n",
        ".mul(100)\n",
        ".rename('percent')\n",
        ".reset_index()\n",
        ".pipe((sns.catplot,'data'), x=x,y='percent',hue=y,kind='bar'))\n",
        "\n",
        "\n",
        "plt.ylabel(\"%\")\n",
        "plt.title(\"Lumière\")\n",
        "plt.show()"
      ],
      "metadata": {
        "colab": {
          "base_uri": "https://localhost:8080/",
          "height": 385
        },
        "id": "XIYkdwPpHga8",
        "outputId": "16534b49-d005-43b7-df1c-3479cb2d27c9"
      },
      "id": "XIYkdwPpHga8",
      "execution_count": 27,
      "outputs": [
        {
          "output_type": "display_data",
          "data": {
            "text/plain": [
              "<Figure size 402.375x360 with 1 Axes>"
            ],
            "image/png": "[encoded data removed]"
          },
          "metadata": {
            "needs_background": "light"
          }
        }
      ]
    },
    {
      "cell_type": "code",
      "source": [
        "#Trajet\n",
        "unique_values = dfAccidents[\"trajet\"].unique()\n",
        "print(unique_values)\n",
        "\n",
        "\n",
        "#Grouping of categories -1 and 0 \"non reinsegné\"\n",
        "dfAccidents.loc[(dfAccidents[\"trajet\"] == -1), 'trajet']=0\n",
        "\n",
        "# Plot the percentage of rows for each category\n",
        "grouped = dfAccidents.groupby('trajet').size()\n",
        "grouped = grouped.apply(lambda x: x / len(dfAccidents) * 100)\n",
        "grouped.plot(kind='bar')\n",
        "plt.ylabel(\"%\")\n",
        "plt.xlabel(\"0.Non renseigné    1.Domicile – travail     5.Promenade – loisirs\")\n",
        "plt.title(\"Motif du déplacement\")\n",
        "plt.show()"
      ],
      "metadata": {
        "colab": {
          "base_uri": "https://localhost:8080/",
          "height": 309
        },
        "id": "tXgcJbsgUOcg",
        "outputId": "ae490c50-0519-44a9-f35f-8f913cf4ee56"
      },
      "id": "tXgcJbsgUOcg",
      "execution_count": 28,
      "outputs": [
        {
          "output_type": "stream",
          "name": "stdout",
          "text": [
            "[ 0  5  9  1  4  2  3 -1]\n"
          ]
        },
        {
          "output_type": "display_data",
          "data": {
            "text/plain": [
              "<Figure size 432x288 with 1 Axes>"
            ],
            "image/png": "[encoded data removed]"
          },
          "metadata": {
            "needs_background": "light"
          }
        }
      ]
    },
    {
      "cell_type": "code",
      "source": [
        "x=\"grav_2\"\n",
        "y=\"trajet\"\n",
        "(dfAccidents.groupby(x)[y].value_counts(normalize=True)\n",
        ".mul(100)\n",
        ".rename('percent')\n",
        ".reset_index()\n",
        ".pipe((sns.catplot,'data'), x=x,y='percent',hue=y,kind='bar'))\n",
        "\n",
        "\n",
        "plt.ylabel(\"%\")\n",
        "plt.title(\"Motif du déplacement\")\n",
        "plt.show()"
      ],
      "metadata": {
        "colab": {
          "base_uri": "https://localhost:8080/",
          "height": 385
        },
        "id": "HV45-XkBVpn4",
        "outputId": "109191c3-f6bd-43b5-dc0f-ab56c17eb681"
      },
      "id": "HV45-XkBVpn4",
      "execution_count": 29,
      "outputs": [
        {
          "output_type": "display_data",
          "data": {
            "text/plain": [
              "<Figure size 402.375x360 with 1 Axes>"
            ],
            "image/png": "[encoded data removed]"
          },
          "metadata": {
            "needs_background": "light"
          }
        }
      ]
    },
    {
      "cell_type": "code",
      "source": [
        "#Type de collision\n",
        "unique_values = dfAccidents[\"col\"].unique()\n",
        "print(unique_values)\n",
        "\n",
        "# Plot the percentage of rows for each category\n",
        "grouped = dfAccidents.groupby('col').size()\n",
        "grouped = grouped.apply(lambda x: x / len(dfAccidents) * 100)\n",
        "grouped.plot(kind='bar')\n",
        "plt.ylabel(\"%\")\n",
        "plt.title(\"Type de collision\")\n",
        "plt.show()\n",
        "\n",
        "\n",
        "\n",
        "\n",
        "#New collision feature with grouping of categories 1-3, 4-5 and  \"non reinsegné\" = 3\n",
        "dfAccidents[\"col_2\"] = dfAccidents[\"col\"]\n",
        "dfAccidents.loc[(dfAccidents[\"col_2\"] == -1), 'col_2']=3\n",
        "dfAccidents.loc[(dfAccidents[\"col_2\"] == 2), 'col_2']=1\n",
        "dfAccidents.loc[(dfAccidents[\"col_2\"] == 3), 'col_2']=1\n",
        "dfAccidents.loc[(dfAccidents[\"col_2\"] == 4), 'col_2']=2\n",
        "dfAccidents.loc[(dfAccidents[\"col_2\"] == 5), 'col_2']=2\n",
        "dfAccidents.loc[(dfAccidents[\"col_2\"] == 6), 'col_2']=3\n",
        "dfAccidents.loc[(dfAccidents[\"col_2\"] == 7), 'col_2']=4\n",
        "\n",
        "    \n",
        "unique_values = dfAccidents[\"col_2\"].unique()\n",
        "print(unique_values)\n",
        "\n"
      ],
      "metadata": {
        "colab": {
          "base_uri": "https://localhost:8080/",
          "height": 330
        },
        "id": "RJ30833SWl4W",
        "outputId": "e0ad5ed7-c68e-4558-d07d-b9b5f81251de"
      },
      "id": "RJ30833SWl4W",
      "execution_count": 30,
      "outputs": [
        {
          "output_type": "stream",
          "name": "stdout",
          "text": [
            "[ 2  6  4  3  5  7  1 -1]\n"
          ]
        },
        {
          "output_type": "display_data",
          "data": {
            "text/plain": [
              "<Figure size 432x288 with 1 Axes>"
            ],
            "image/png": "[encoded data removed]"
          },
          "metadata": {
            "needs_background": "light"
          }
        },
        {
          "output_type": "stream",
          "name": "stdout",
          "text": [
            "[1 3 2 4]\n"
          ]
        }
      ]
    },
    {
      "cell_type": "code",
      "source": [
        "# Plot the percentage of rows for each category\n",
        "grouped = dfAccidents.groupby('col_2').size()\n",
        "grouped = grouped.apply(lambda x: x / len(dfAccidents) * 100)\n",
        "grouped.plot(kind='bar')\n",
        "plt.ylabel(\"%\")\n",
        "plt.xlabel(\"1.Deux véhicules  2.Trois véhicules et plus  3.Autre collision  4.Sans collision\")\n",
        "plt.title(\"Type de collision\")\n",
        "plt.show()"
      ],
      "metadata": {
        "colab": {
          "base_uri": "https://localhost:8080/",
          "height": 292
        },
        "id": "TMEcWYhVweKo",
        "outputId": "68fc5049-1b46-4225-8683-45a9039a6823"
      },
      "id": "TMEcWYhVweKo",
      "execution_count": 31,
      "outputs": [
        {
          "output_type": "display_data",
          "data": {
            "text/plain": [
              "<Figure size 432x288 with 1 Axes>"
            ],
            "image/png": "[encoded data removed]"
          },
          "metadata": {
            "needs_background": "light"
          }
        }
      ]
    },
    {
      "cell_type": "code",
      "source": [
        "x=\"grav_2\"\n",
        "y=\"col_2\"\n",
        "(dfAccidents.groupby(x)[y].value_counts(normalize=True)\n",
        ".mul(100)\n",
        ".rename('percent')\n",
        ".reset_index()\n",
        ".pipe((sns.catplot,'data'), x=x,y='percent',hue=y,kind='bar'))\n",
        "\n",
        "\n",
        "plt.ylabel(\"%\")\n",
        "plt.title(\"Type de collision\")\n",
        "plt.show()"
      ],
      "metadata": {
        "colab": {
          "base_uri": "https://localhost:8080/",
          "height": 385
        },
        "id": "XEXuIQiBXLPR",
        "outputId": "80c4d34e-d455-440b-db05-122f143a92ad"
      },
      "id": "XEXuIQiBXLPR",
      "execution_count": 32,
      "outputs": [
        {
          "output_type": "display_data",
          "data": {
            "text/plain": [
              "<Figure size 402.375x360 with 1 Axes>"
            ],
            "image/png": "[encoded data removed]"
          },
          "metadata": {
            "needs_background": "light"
          }
        }
      ]
    },
    {
      "cell_type": "code",
      "source": [
        "# Plot the percentage of rows for each month\n",
        "grouped = dfAccidents.groupby('mois').size()\n",
        "grouped = grouped.apply(lambda x: x / len(dfAccidents) * 100)\n",
        "grouped.plot(kind='bar')\n",
        "plt.ylabel(\"%\")\n",
        "plt.title(\"Mois de l'accident\")\n",
        "plt.show()"
      ],
      "metadata": {
        "colab": {
          "base_uri": "https://localhost:8080/",
          "height": 298
        },
        "id": "UcQ7PYUqI7vw",
        "outputId": "bae9b3f1-6fa4-4b00-d6d5-aa320ab83d80"
      },
      "id": "UcQ7PYUqI7vw",
      "execution_count": 33,
      "outputs": [
        {
          "output_type": "display_data",
          "data": {
            "text/plain": [
              "<Figure size 432x288 with 1 Axes>"
            ],
            "image/png": "[encoded data removed]"
          },
          "metadata": {
            "needs_background": "light"
          }
        }
      ]
    },
    {
      "cell_type": "code",
      "source": [
        "month_column = dfAccidents['mois']\n",
        "dfAccidents['quarter'] = np.ceil(month_column/3)\n",
        "\n",
        "grouped = dfAccidents.groupby('quarter').size()\n",
        "grouped = grouped.apply(lambda x: x / len(dfAccidents) * 100)\n",
        "grouped.plot(kind='bar')\n",
        "plt.ylabel(\"%\")\n",
        "plt.title(\"Trimestre de l'accident\")\n",
        "plt.show()\n"
      ],
      "metadata": {
        "colab": {
          "base_uri": "https://localhost:8080/",
          "height": 301
        },
        "id": "uXecJ9uRLpIz",
        "outputId": "75744c93-05f1-4d81-b3a6-748e20a549ae"
      },
      "id": "uXecJ9uRLpIz",
      "execution_count": 34,
      "outputs": [
        {
          "output_type": "display_data",
          "data": {
            "text/plain": [
              "<Figure size 432x288 with 1 Axes>"
            ],
            "image/png": "[encoded data removed]"
          },
          "metadata": {
            "needs_background": "light"
          }
        }
      ]
    },
    {
      "cell_type": "code",
      "source": [
        "x=\"grav_2\"\n",
        "y=\"quarter\"\n",
        "(dfAccidents.groupby(x)[y].value_counts(normalize=True)\n",
        ".mul(100)\n",
        ".rename('percent')\n",
        ".reset_index()\n",
        ".pipe((sns.catplot,'data'), x=x,y='percent',hue=y,kind='bar'))\n",
        "\n",
        "\n",
        "plt.ylabel(\"%\")\n",
        "plt.title(\"Trimestre de l'accident\")\n",
        "plt.show()"
      ],
      "metadata": {
        "colab": {
          "base_uri": "https://localhost:8080/",
          "height": 385
        },
        "id": "W9-FUw0CKtft",
        "outputId": "3a36448b-16fa-4396-e53c-963841e11f4c"
      },
      "id": "W9-FUw0CKtft",
      "execution_count": 35,
      "outputs": [
        {
          "output_type": "display_data",
          "data": {
            "text/plain": [
              "<Figure size 411.875x360 with 1 Axes>"
            ],
            "image/png": "[encoded data removed]"
          },
          "metadata": {
            "needs_background": "light"
          }
        }
      ]
    },
    {
      "cell_type": "markdown",
      "source": [
        "# Third part : Random forest classifier using intuitive variables"
      ],
      "metadata": {
        "id": "fTVwPAaVQnmF"
      },
      "id": "fTVwPAaVQnmF"
    },
    {
      "cell_type": "markdown",
      "source": [
        "##Libraries"
      ],
      "metadata": {
        "id": "Or8KlCONEf7-"
      },
      "id": "Or8KlCONEf7-"
    },
    {
      "cell_type": "code",
      "source": [
        "import sklearn\n",
        "from sklearn.ensemble import RandomForestClassifier\n",
        "from sklearn.model_selection import RandomizedSearchCV,cross_val_score\n",
        "from sklearn.model_selection import train_test_split\n",
        "from sklearn.ensemble import RandomForestClassifier\n",
        "from sklearn.model_selection import train_test_split, RandomizedSearchCV\n",
        "from sklearn.preprocessing import MinMaxScaler\n",
        "from sklearn.metrics import make_scorer, accuracy_score,precision_score, recall_score, f1_score,confusion_matrix\n",
        "from scipy.stats import randint"
      ],
      "metadata": {
        "id": "IVJ1bNJVQssB"
      },
      "id": "IVJ1bNJVQssB",
      "execution_count": 36,
      "outputs": []
    },
    {
      "cell_type": "code",
      "source": [
        "#!pip install category_encoders\n",
        "#from category_encoders import TargetEncoder"
      ],
      "metadata": {
        "id": "Uy2XrShpTFnp"
      },
      "id": "Uy2XrShpTFnp",
      "execution_count": null,
      "outputs": []
    },
    {
      "cell_type": "code",
      "source": [
        "#department as a text\n",
        "print(dfAccidents[\"dep\"].unique())\n",
        "dfAccidents['dep'] = dfAccidents['dep'].astype(str)\n",
        "\n",
        "#Grouping of Corse \n",
        "dfAccidents.loc[dfAccidents['dep'] == '2A','dep'] ='20' \n",
        "dfAccidents.loc[dfAccidents['dep'] == '2B','dep'] ='20' \n"
      ],
      "metadata": {
        "colab": {
          "base_uri": "https://localhost:8080/"
        },
        "id": "lJ6WvUSzGgKy",
        "outputId": "e85bf324-3e2b-4feb-948e-755846cd930b"
      },
      "id": "lJ6WvUSzGgKy",
      "execution_count": 37,
      "outputs": [
        {
          "output_type": "stream",
          "name": "stdout",
          "text": [
            "['93' '92' '94' '87' '69' '38' '34' '13' '988' '976' '974' '972' '2B' '91'\n",
            " '86' '83' '80' '78' '77' '76' '72' '71' '67' '66' '64' '60' '51' '50'\n",
            " '49' '45' '37' '35' '33' '31' '30' '29' '22' '19' '18' '17' '74' '81' '2'\n",
            " '59' '95' '63' '62' '973' '2A' '84' '9' '73' '43' '10' '36' '16' '7' '21'\n",
            " '40' '24' '4' '85' '27' '28' '52' '68' '42' '82' '11' '987' '44' '61'\n",
            " '14' '56' '58' '54' '47' '41' '3' '75' '1' '57' '32' '39' '15' '23' '6'\n",
            " '5' '26' '48' '986' '971' '89' '25' '12' '88' '65' '53' '70' '46' '90'\n",
            " '8' '79' '977' '55' '978' '975' '06' '03' '07' '01' '08' '02' '05' '04'\n",
            " '09']\n"
          ]
        }
      ]
    },
    {
      "cell_type": "markdown",
      "source": [
        "##Training and test set with intuitive features"
      ],
      "metadata": {
        "id": "8-UCg157EpEu"
      },
      "id": "8-UCg157EpEu"
    },
    {
      "cell_type": "code",
      "source": [
        "#Training and test set\n",
        "features = ['agg','vma','catu','sexe','Age','lum','trajet','col_2']\n",
        "X = dfAccidents[features]\n",
        "y = dfAccidents['grav_2']\n",
        "\n",
        "X_train, X_test, y_train, y_test = train_test_split(X, y, test_size=0.2, random_state=0)"
      ],
      "metadata": {
        "id": "u-7fppDLYjT7"
      },
      "id": "u-7fppDLYjT7",
      "execution_count": 38,
      "outputs": []
    },
    {
      "cell_type": "markdown",
      "source": [
        "##Correlation matrix between features"
      ],
      "metadata": {
        "id": "7M01TKtCE2rC"
      },
      "id": "7M01TKtCE2rC"
    },
    {
      "cell_type": "code",
      "source": [
        "# Compute the correlation matrix\n",
        "corr = X_train.corr()\n",
        "\n",
        "# Generate a mask for the upper triangle\n",
        "mask = np.triu(np.ones_like(corr, dtype=np.bool))\n",
        "\n",
        "# Set up the matplotlib figure\n",
        "f, ax = plt.subplots(figsize=(11, 9))\n",
        "\n",
        "# Generate a custom diverging colormap\n",
        "cmap = sns.diverging_palette(220, 10, as_cmap=True)\n",
        "\n",
        "# Draw the heatmap with the mask and correct aspect ratio\n",
        "sns.heatmap(corr, mask=mask, cmap=cmap, vmax=.3, center=0,\n",
        "            square=True, linewidths=.5, cbar_kws={\"shrink\": .5})\n",
        "\n",
        "plt.show()\n"
      ],
      "metadata": {
        "colab": {
          "base_uri": "https://localhost:8080/",
          "height": 629
        },
        "id": "GUZmROlUXjx2",
        "outputId": "f653bcb4-b855-4cdc-de7c-9effd8572e17"
      },
      "id": "GUZmROlUXjx2",
      "execution_count": 240,
      "outputs": [
        {
          "output_type": "stream",
          "name": "stderr",
          "text": [
            "<ipython-input-240-4df0e3a6e205>:5: DeprecationWarning: `np.bool` is a deprecated alias for the builtin `bool`. To silence this warning, use `bool` by itself. Doing this will not modify any behavior and is safe. If you specifically wanted the numpy scalar type, use `np.bool_` here.\n",
            "Deprecated in NumPy 1.20; for more details and guidance: https://numpy.org/devdocs/release/1.20.0-notes.html#deprecations\n",
            "  mask = np.triu(np.ones_like(corr, dtype=np.bool))\n"
          ]
        },
        {
          "output_type": "display_data",
          "data": {
            "text/plain": [
              "<Figure size 792x648 with 2 Axes>"
            ],
            "image/png": "[encoded data removed]"
          },
          "metadata": {
            "needs_background": "light"
          }
        }
      ]
    },
    {
      "cell_type": "markdown",
      "source": [
        "##Training and test set without correlated variables"
      ],
      "metadata": {
        "id": "bUMJd3GaFAUg"
      },
      "id": "bUMJd3GaFAUg"
    },
    {
      "cell_type": "code",
      "source": [
        "#Training and test set\n",
        "features = ['vma','catu','sexe','Age','lum','trajet','col_2']\n",
        "X = dfAccidents[features]\n",
        "y = dfAccidents['grav_2']\n",
        "\n",
        "X_train, X_test, y_train, y_test = train_test_split(X, y, test_size=0.2, random_state=0)\n",
        "\n",
        "\n",
        "\n",
        "# Select features to scale\n",
        "features_to_scale = ['vma']\n",
        "scaler = MinMaxScaler()\n",
        "\n",
        "# Fit and transform the selected features\n",
        "X_train[features_to_scale] = scaler.fit_transform(X_train[features_to_scale])\n",
        "X_test[features_to_scale] = scaler.fit_transform(X_test[features_to_scale])"
      ],
      "metadata": {
        "id": "p7sNuDuJbadD"
      },
      "id": "p7sNuDuJbadD",
      "execution_count": 40,
      "outputs": []
    },
    {
      "cell_type": "markdown",
      "source": [
        "##Random search to find the best hyperparameters"
      ],
      "metadata": {
        "id": "038wa2aUFMlT"
      },
      "id": "038wa2aUFMlT"
    },
    {
      "cell_type": "code",
      "source": [
        "\n",
        "import time\n",
        "start = time.perf_counter()\n",
        "# your algorithm here\n",
        "\n",
        "\n",
        "# Parameter grid\n",
        "param_grid = {'n_estimators': [10, 20, 50], \n",
        "              'max_depth': [5, 10,20], \n",
        "              'min_samples_split': [2, 5, 10]}\n",
        "\n",
        "# Create an instance of the RandomForestClassifier\n",
        "rf = RandomForestClassifier()\n",
        "\n",
        "# Create an instance of the RandomSearchCV\n",
        "random_search = RandomizedSearchCV(estimator=rf, param_distributions=param_grid, n_iter=5)\n",
        "\n",
        "# Fit the RandomSearchCV instance to the training data\n",
        "random_search.fit(X_train, y_train)\n",
        "\n",
        "# Print the best hyperparameters\n",
        "print(random_search.best_params_)\n",
        "\n",
        "\n",
        "\n",
        "end = time.perf_counter()\n",
        "print(\"Execution time:\", end - start)\n",
        "\n",
        "\n"
      ],
      "metadata": {
        "colab": {
          "base_uri": "https://localhost:8080/"
        },
        "id": "_n2aLET-JgfJ",
        "outputId": "f669696d-6c03-40a3-c609-1eb4f7b6dfdf"
      },
      "id": "_n2aLET-JgfJ",
      "execution_count": 41,
      "outputs": [
        {
          "output_type": "stream",
          "name": "stdout",
          "text": [
            "{'n_estimators': 20, 'min_samples_split': 10, 'max_depth': 20}\n",
            "Execution time: 489.72111141199997\n"
          ]
        }
      ]
    },
    {
      "cell_type": "markdown",
      "source": [
        "##Cross validation on the training set to prevent overfitting"
      ],
      "metadata": {
        "id": "a1mIukkEFt_4"
      },
      "id": "a1mIukkEFt_4"
    },
    {
      "cell_type": "code",
      "source": [
        "start = time.perf_counter()\n",
        "# your algorithm here\n",
        "\n",
        "#Cross validation on the training set to evaluate the performance of the model\n",
        "from sklearn.model_selection import cross_val_score, cross_validate\n",
        "\n",
        "# Create an instance of the RandomForestClassifier with the best hyperparameters\n",
        "best_rf = RandomForestClassifier(n_estimators=20,max_depth=20,min_samples_split=10)\n",
        "\n",
        "# Evaluate the performance of the model using cross-validation\n",
        "scores = cross_val_score(best_rf, X_train, y_train, cv=5)\n",
        "\n",
        "# Print the mean and standard deviation of the scores\n",
        "print(\"Mean: {:.2f}, Std: {:.2f}\".format(scores.mean(), scores.std()))\n",
        "\n",
        "end = time.perf_counter()\n",
        "print(\"Execution time:\", end - start)"
      ],
      "metadata": {
        "colab": {
          "base_uri": "https://localhost:8080/"
        },
        "id": "fzx4Q7leQt1r",
        "outputId": "699bbe95-c326-45ba-d5a8-3b201c9babf7"
      },
      "id": "fzx4Q7leQt1r",
      "execution_count": 63,
      "outputs": [
        {
          "output_type": "stream",
          "name": "stdout",
          "text": [
            "Mean: 0.69, Std: 0.00\n",
            "Execution time: 104.9955020540001\n"
          ]
        }
      ]
    },
    {
      "cell_type": "markdown",
      "source": [
        "##Training the classifier with the parameters found by cross validation"
      ],
      "metadata": {
        "id": "7-K8ffaOGH8o"
      },
      "id": "7-K8ffaOGH8o"
    },
    {
      "cell_type": "code",
      "source": [
        "start = time.perf_counter()\n",
        "# your algorithm here\n",
        "\n",
        "# Train the classifier with the parameters found by cross validation\n",
        "clf = RandomForestClassifier(n_estimators=10,max_depth=20,min_samples_split=5)\n",
        "clf.fit(X_train, y_train)\n",
        "\n",
        "end = time.perf_counter()\n",
        "print(\"Execution time:\", end - start)"
      ],
      "metadata": {
        "colab": {
          "base_uri": "https://localhost:8080/"
        },
        "id": "8Tqnl-3B67ku",
        "outputId": "a505b98d-4166-4c92-86a5-32316fcda111"
      },
      "id": "8Tqnl-3B67ku",
      "execution_count": 64,
      "outputs": [
        {
          "output_type": "stream",
          "name": "stdout",
          "text": [
            "Execution time: 12.783908842999608\n"
          ]
        }
      ]
    },
    {
      "cell_type": "markdown",
      "source": [
        "##Accuracy, precision, recall and Confusion matrix"
      ],
      "metadata": {
        "id": "hJl5fRM7GY7X"
      },
      "id": "hJl5fRM7GY7X"
    },
    {
      "cell_type": "code",
      "source": [
        "start = time.perf_counter()\n",
        "# your algorithm here\n",
        "\n",
        "# evaluate the classifier on the test and training set\n",
        "y_pred_test = clf.predict(X_test)\n",
        "y_pred_train = clf.predict(X_train)\n",
        "\n",
        "# evaluate the model using accuracy, precision, recall, and F1-score\n",
        "accuracy_test = accuracy_score(y_test, y_pred_test)\n",
        "precision_test = precision_score(y_test, y_pred_test, average='weighted')\n",
        "recall_test = recall_score(y_test, y_pred_test, average='weighted')\n",
        "\n",
        "\n",
        "accuracy_training = accuracy_score(y_train, y_pred_train)\n",
        "precision_training = precision_score(y_train, y_pred_train, average='weighted')\n",
        "recall_training = recall_score(y_train, y_pred_train, average='weighted')\n",
        "\n",
        "\n",
        "print(\"Accuracy on test set:\", accuracy_test)\n",
        "print(\"Precision on test set:\", precision_test)\n",
        "print(\"Recall: on test set\", recall_test)\n",
        "\n",
        "\n",
        "print(\"Accuracy on training set:\", accuracy_training)\n",
        "print(\"Precision on training set:\", precision_training)\n",
        "print(\"Recall: on training set\", recall_training)\n",
        "\n",
        "\n",
        "# calculate the confusion matrix\n",
        "conf_matrix = confusion_matrix(y_test, y_pred_test)\n",
        "\n",
        "# convert to a DataFrame\n",
        "df_conf_matrix = pd.DataFrame(conf_matrix, index=clf.classes_, columns=clf.classes_)\n",
        "\n",
        "df_conf_matrix = df_conf_matrix.astype(int)\n",
        "\n",
        "# print the matrix\n",
        "print(df_conf_matrix)\n",
        "sns.heatmap(df_conf_matrix, annot = True, cmap = 'Blues')\n",
        "\n",
        "end = time.perf_counter()\n",
        "print(\"Execution time:\", end - start)"
      ],
      "metadata": {
        "colab": {
          "base_uri": "https://localhost:8080/",
          "height": 456
        },
        "id": "0Y9mSCRvGYGB",
        "outputId": "ced7b882-05e9-4ce1-a5b6-f5ccb177a5c5"
      },
      "id": "0Y9mSCRvGYGB",
      "execution_count": 68,
      "outputs": [
        {
          "output_type": "stream",
          "name": "stdout",
          "text": [
            "Accuracy on test set: 0.6928768839090006\n",
            "Precision on test set: 0.6922380732493054\n",
            "Recall: on test set 0.6928768839090006\n",
            "Accuracy on training set: 0.7110846006180992\n",
            "Precision on training set: 0.7127923391628803\n",
            "Recall: on training set 0.7110846006180992\n",
            "       1     2       3\n",
            "1  73387   144   49031\n",
            "2   1389  1394    4824\n",
            "3  34526   320  128789\n",
            "Execution time: 6.11621784099998\n"
          ]
        },
        {
          "output_type": "display_data",
          "data": {
            "text/plain": [
              "<Figure size 432x288 with 2 Axes>"
            ],
            "image/png": "[encoded data removed]"
          },
          "metadata": {
            "needs_background": "light"
          }
        }
      ]
    },
    {
      "cell_type": "markdown",
      "source": [
        "##ROC Curves"
      ],
      "metadata": {
        "id": "Xj24o1rNImHx"
      },
      "id": "Xj24o1rNImHx"
    },
    {
      "cell_type": "code",
      "source": [
        "start = time.perf_counter()\n",
        "# your algorithm here\n",
        "\n",
        "from sklearn.metrics import roc_curve\n",
        "\n",
        "# predict the class probabilities for each instance using the random forest model\n",
        "y_prob = clf.predict_proba(X_test)\n",
        "\n",
        "# consider each class as a positive class and the rest of the classes as negative\n",
        "n_classes = y_prob.shape[1]\n",
        "for i in range(n_classes):\n",
        "    j=i+1 \n",
        "    y_true = (y_test == j).astype(int)\n",
        "    fpr, tpr, _ = roc_curve(y_true, y_prob[:, i])\n",
        "    \n",
        "    plt.plot(fpr, tpr, label='Class %d ROC curve' % j)\n",
        "\n",
        "plt.xlabel('False Positive Rate (FPR)')\n",
        "plt.ylabel('True Positive Rate (TPR)')\n",
        "plt.title('ROC Curves for Random Forest Multi-Class Classifier')\n",
        "plt.legend()\n",
        "plt.show()\n",
        "\n",
        "\n",
        "end = time.perf_counter()\n",
        "print(\"Execution time:\", end - start)"
      ],
      "metadata": {
        "colab": {
          "base_uri": "https://localhost:8080/",
          "height": 312
        },
        "id": "_8mxZ3wU_o1p",
        "outputId": "7315cf23-c9fb-4575-e3d0-df870ab647a5"
      },
      "id": "_8mxZ3wU_o1p",
      "execution_count": 69,
      "outputs": [
        {
          "output_type": "display_data",
          "data": {
            "text/plain": [
              "<Figure size 432x288 with 1 Axes>"
            ],
            "image/png": "[encoded data removed]"
          },
          "metadata": {
            "needs_background": "light"
          }
        },
        {
          "output_type": "stream",
          "name": "stdout",
          "text": [
            "Execution time: 1.8803689909996137\n"
          ]
        }
      ]
    },
    {
      "cell_type": "markdown",
      "source": [
        "#Fourth part : Random forest classifier adding technical features using feature selection"
      ],
      "metadata": {
        "id": "yCsY6psoI_va"
      },
      "id": "yCsY6psoI_va"
    },
    {
      "cell_type": "code",
      "source": [
        "#Security equipement\n",
        "\n",
        "# Define the function to be applied\n",
        "def equipement(value1,value2,value3):\n",
        "    if value1 >0 or value2>0 or value3>0:\n",
        "        return 1\n",
        "    elif value1==0 or value2==0 or value3==0:\n",
        "        return 0    \n",
        "    else:\n",
        "        return -1\n",
        "\n",
        "# Apply the function to the DataFrame\n",
        "dfAccidents['secu'] = dfAccidents.apply(lambda x: equipement(x['secu1'], x['secu2'], x['secu3']), axis=1) "
      ],
      "metadata": {
        "id": "Ug_QZFKGAa1R"
      },
      "id": "Ug_QZFKGAa1R",
      "execution_count": 162,
      "outputs": []
    },
    {
      "cell_type": "code",
      "source": [
        "#Catégorie du véhicule\n",
        "dfAccidents['catv'].value_counts()\n",
        "dfAccidents[\"catv\"] = pd.to_numeric(dfAccidents[\"catv\"])\n",
        "\n",
        "#empty values are filled in with the mode\n",
        "dfAccidents.loc[dfAccidents['catv']==-1,'catv']=99\n",
        "dfAccidents.loc[dfAccidents['catv'].isna(),'catv']=99\n",
        "\n",
        "dfAccidents[\"dep\"] = pd.to_numeric(dfAccidents[\"dep\"])"
      ],
      "metadata": {
        "id": "8N4fk1HzWXQ4"
      },
      "id": "8N4fk1HzWXQ4",
      "execution_count": 164,
      "outputs": []
    },
    {
      "cell_type": "markdown",
      "source": [
        "##Correlation matrix between features"
      ],
      "metadata": {
        "id": "SJJ8j4kMgVeR"
      },
      "id": "SJJ8j4kMgVeR"
    },
    {
      "cell_type": "code",
      "source": [
        "#Training and test set\n",
        "features = ['agg','vma','catu','sexe','Age','lum','trajet','col_2','secu','catv','place','motor','atm','obs','obsm','situ','choc','catr','int','surf','situ','choc']\n",
        "X = dfAccidents[features]\n",
        "y = dfAccidents['grav_2']\n",
        "\n",
        "X_train, X_test, y_train, y_test = train_test_split(X, y, test_size=0.2, random_state=0)\n",
        "\n",
        "\n",
        "\n",
        "# Select features to scale\n",
        "features_to_scale = ['vma']\n",
        "scaler = MinMaxScaler()\n",
        "\n",
        "# Fit and transform the selected features\n",
        "X_train[features_to_scale] = scaler.fit_transform(X_train[features_to_scale])\n",
        "X_test[features_to_scale] = scaler.fit_transform(X_test[features_to_scale])\n",
        "\n"
      ],
      "metadata": {
        "id": "UeHMj_HXD3r4"
      },
      "id": "UeHMj_HXD3r4",
      "execution_count": 231,
      "outputs": []
    },
    {
      "cell_type": "code",
      "source": [
        "\n",
        "# Compute the correlation matrix\n",
        "corr = X_train.corr()\n",
        "\n",
        "# Generate a mask for the upper triangle\n",
        "mask = np.triu(np.ones_like(corr, dtype=np.bool))\n",
        "\n",
        "# Set up the matplotlib figure\n",
        "f, ax = plt.subplots(figsize=(11, 9))\n",
        "\n",
        "# Generate a custom diverging colormap\n",
        "cmap = sns.diverging_palette(220, 10, as_cmap=True)\n",
        "\n",
        "# Draw the heatmap with the mask and correct aspect ratio\n",
        "sns.heatmap(corr, mask=mask, cmap=cmap, vmax=.3, center=0,\n",
        "            square=True, linewidths=.5, cbar_kws={\"shrink\": .5})\n",
        "\n",
        "plt.show()\n"
      ],
      "metadata": {
        "colab": {
          "base_uri": "https://localhost:8080/",
          "height": 629
        },
        "id": "msSvEMkDKJlE",
        "outputId": "124cbee2-a322-4397-d275-e7810a6735bb"
      },
      "id": "msSvEMkDKJlE",
      "execution_count": 233,
      "outputs": [
        {
          "output_type": "stream",
          "name": "stderr",
          "text": [
            "<ipython-input-233-4df0e3a6e205>:5: DeprecationWarning: `np.bool` is a deprecated alias for the builtin `bool`. To silence this warning, use `bool` by itself. Doing this will not modify any behavior and is safe. If you specifically wanted the numpy scalar type, use `np.bool_` here.\n",
            "Deprecated in NumPy 1.20; for more details and guidance: https://numpy.org/devdocs/release/1.20.0-notes.html#deprecations\n",
            "  mask = np.triu(np.ones_like(corr, dtype=np.bool))\n"
          ]
        },
        {
          "output_type": "display_data",
          "data": {
            "text/plain": [
              "<Figure size 792x648 with 2 Axes>"
            ],
            "image/png": "[encoded data removed]"
          },
          "metadata": {
            "needs_background": "light"
          }
        }
      ]
    },
    {
      "cell_type": "markdown",
      "source": [
        "##Training and test set without correlated variables"
      ],
      "metadata": {
        "id": "-hc9DgyJgogO"
      },
      "id": "-hc9DgyJgogO"
    },
    {
      "cell_type": "code",
      "source": [
        "#Training and test set\n",
        "features = ['vma','catu','sexe','Age','lum','trajet','col_2','catv','place','motor','atm','obs','obsm','situ','choc','int','surf','situ','choc']\n",
        "X = dfAccidents[features]\n",
        "y = dfAccidents['grav_2']\n",
        "\n",
        "\n",
        "\n",
        "X_train, X_test, y_train, y_test = train_test_split(X, y, test_size=0.2, random_state=0)\n",
        "\n",
        "\n",
        "# Select features to scale\n",
        "features_to_scale = ['vma']\n",
        "scaler = MinMaxScaler()\n",
        "\n",
        "# Fit and transform the selected features\n",
        "X_train[features_to_scale] = scaler.fit_transform(X_train[features_to_scale])\n",
        "X_test[features_to_scale] = scaler.fit_transform(X_test[features_to_scale])\n",
        "\n"
      ],
      "metadata": {
        "id": "XDv3f4BWUexb"
      },
      "id": "XDv3f4BWUexb",
      "execution_count": 234,
      "outputs": []
    },
    {
      "cell_type": "markdown",
      "source": [
        "##Random search hyperparameters"
      ],
      "metadata": {
        "id": "ij-WJnUrg8c8"
      },
      "id": "ij-WJnUrg8c8"
    },
    {
      "cell_type": "code",
      "source": [
        "\n",
        "import time\n",
        "start = time.perf_counter()\n",
        "# your algorithm here\n",
        "\n",
        "\n",
        "# Parameter grid\n",
        "param_grid = {'n_estimators': [10, 20, 50], \n",
        "              'max_depth': [5, 10,20], \n",
        "              'min_samples_split': [2, 5, 10]}\n",
        "\n",
        "# Create an instance of the RandomForestClassifier\n",
        "rf = RandomForestClassifier()\n",
        "\n",
        "# Create an instance of the RandomSearchCV\n",
        "random_search = RandomizedSearchCV(estimator=rf, param_distributions=param_grid, n_iter=5)\n",
        "\n",
        "# Fit the RandomSearchCV instance to the training data\n",
        "random_search.fit(X_train, y_train)\n",
        "\n",
        "# Print the best hyperparameters\n",
        "print(random_search.best_params_)\n",
        "\n",
        "\n",
        "\n",
        "end = time.perf_counter()\n",
        "print(\"Execution time:\", end - start)\n"
      ],
      "metadata": {
        "colab": {
          "base_uri": "https://localhost:8080/"
        },
        "id": "3KWgsK-IgqbX",
        "outputId": "46003774-37a8-41fc-efd9-524b41d0a77a"
      },
      "id": "3KWgsK-IgqbX",
      "execution_count": 235,
      "outputs": [
        {
          "output_type": "stream",
          "name": "stdout",
          "text": [
            "{'n_estimators': 10, 'min_samples_split': 2, 'max_depth': 20}\n",
            "Execution time: 719.4616856590001\n"
          ]
        }
      ]
    },
    {
      "cell_type": "markdown",
      "source": [
        "##Cross validation on training set to prevent overfitting"
      ],
      "metadata": {
        "id": "DlTr_bkjmjiL"
      },
      "id": "DlTr_bkjmjiL"
    },
    {
      "cell_type": "code",
      "source": [
        "start = time.perf_counter()\n",
        "# your algorithm here\n",
        "\n",
        "#Cross validation on the training set to evaluate the performance of the model\n",
        "from sklearn.model_selection import cross_val_score, cross_validate\n",
        "\n",
        "# Create an instance of the RandomForestClassifier with the best hyperparameters\n",
        "best_rf = RandomForestClassifier(n_estimators=10,max_depth=20,min_samples_split=2)\n",
        "\n",
        "# Evaluate the performance of the model using cross-validation\n",
        "scores = cross_val_score(best_rf, X_train, y_train, cv=5)\n",
        "\n",
        "# Print the mean and standard deviation of the scores\n",
        "print(\"Mean: {:.2f}, Std: {:.2f}\".format(scores.mean(), scores.std()))\n",
        "\n",
        "end = time.perf_counter()\n",
        "print(\"Execution time:\", end - start)"
      ],
      "metadata": {
        "colab": {
          "base_uri": "https://localhost:8080/"
        },
        "id": "5J9q0Zmbg67v",
        "outputId": "a78c57d6-5021-493c-e878-9e0465114625"
      },
      "id": "5J9q0Zmbg67v",
      "execution_count": 236,
      "outputs": [
        {
          "output_type": "stream",
          "name": "stdout",
          "text": [
            "Mean: 0.82, Std: 0.00\n",
            "Execution time: 91.55710955800168\n"
          ]
        }
      ]
    },
    {
      "cell_type": "markdown",
      "source": [
        "##Training the classifier with the parameters found by the cross validation"
      ],
      "metadata": {
        "id": "lVvhItRLm3EM"
      },
      "id": "lVvhItRLm3EM"
    },
    {
      "cell_type": "code",
      "source": [
        "start = time.perf_counter()\n",
        "# your algorithm here\n",
        "\n",
        "# Train the classifier with the parameters found by cross validation\n",
        "clf = RandomForestClassifier(n_estimators=10,max_depth=20,min_samples_split=5)\n",
        "clf.fit(X_train, y_train)\n",
        "\n",
        "end = time.perf_counter()\n",
        "print(\"Execution time:\", end - start)"
      ],
      "metadata": {
        "colab": {
          "base_uri": "https://localhost:8080/"
        },
        "id": "ywmelLuFmpK1",
        "outputId": "b1ee4ea7-96da-46aa-81ae-dab8ad835902"
      },
      "id": "ywmelLuFmpK1",
      "execution_count": 237,
      "outputs": [
        {
          "output_type": "stream",
          "name": "stdout",
          "text": [
            "Execution time: 19.838631741997233\n"
          ]
        }
      ]
    },
    {
      "cell_type": "markdown",
      "source": [
        "##Acccuracy, precision, recall and confusion matrix"
      ],
      "metadata": {
        "id": "LOODKOncn7LP"
      },
      "id": "LOODKOncn7LP"
    },
    {
      "cell_type": "code",
      "source": [
        "start = time.perf_counter()\n",
        "# your algorithm here\n",
        "\n",
        "# evaluate the classifier on the test and training set\n",
        "y_pred_test = clf.predict(X_test)\n",
        "y_pred_train = clf.predict(X_train)\n",
        "\n",
        "# evaluate the model using accuracy, precision, recall, and F1-score\n",
        "accuracy_test = accuracy_score(y_test, y_pred_test)\n",
        "precision_test = precision_score(y_test, y_pred_test, average='weighted')\n",
        "recall_test = recall_score(y_test, y_pred_test, average='weighted')\n",
        "\n",
        "\n",
        "accuracy_training = accuracy_score(y_train, y_pred_train)\n",
        "precision_training = precision_score(y_train, y_pred_train, average='weighted')\n",
        "recall_training = recall_score(y_train, y_pred_train, average='weighted')\n",
        "\n",
        "\n",
        "print(\"Accuracy on test set:\", accuracy_test)\n",
        "print(\"Precision on test set:\", precision_test)\n",
        "print(\"Recall: on test set\", recall_test)\n",
        "\n",
        "\n",
        "print(\"Accuracy on training set:\", accuracy_training)\n",
        "print(\"Precision on training set:\", precision_training)\n",
        "print(\"Recall: on training set\", recall_training)\n",
        "\n",
        "\n",
        "# calculate the confusion matrix\n",
        "conf_matrix = confusion_matrix(y_test, y_pred_test)\n",
        "\n",
        "# convert to a DataFrame\n",
        "df_conf_matrix = pd.DataFrame(conf_matrix, index=clf.classes_, columns=clf.classes_)\n",
        "\n",
        "df_conf_matrix = df_conf_matrix.astype(int)\n",
        "\n",
        "# print the matrix\n",
        "print(df_conf_matrix)\n",
        "sns.heatmap(df_conf_matrix, annot = True, cmap = 'Blues')\n",
        "\n",
        "end = time.perf_counter()\n",
        "print(\"Execution time:\", end - start)"
      ],
      "metadata": {
        "colab": {
          "base_uri": "https://localhost:8080/",
          "height": 456
        },
        "id": "I23KCC4_nqet",
        "outputId": "29b36137-4757-45e9-94fd-e4781c650b5e"
      },
      "id": "I23KCC4_nqet",
      "execution_count": 238,
      "outputs": [
        {
          "output_type": "stream",
          "name": "stdout",
          "text": [
            "Accuracy on test set: 0.8235762617255041\n",
            "Precision on test set: 0.8282186161230581\n",
            "Recall: on test set 0.8235762617255041\n",
            "Accuracy on training set: 0.8338603286544771\n",
            "Precision on training set: 0.8381966997292088\n",
            "Recall: on training set 0.8338603286544771\n",
            "        1     2       3\n",
            "1  103765     3   18794\n",
            "2     731  2066    4810\n",
            "3   27472    24  136139\n",
            "Execution time: 5.803021108000394\n"
          ]
        },
        {
          "output_type": "display_data",
          "data": {
            "text/plain": [
              "<Figure size 432x288 with 2 Axes>"
            ],
            "image/png": "[encoded data removed]"
          },
          "metadata": {
            "needs_background": "light"
          }
        }
      ]
    },
    {
      "cell_type": "markdown",
      "source": [
        "##ROC curves"
      ],
      "metadata": {
        "id": "ukhroONMoMvV"
      },
      "id": "ukhroONMoMvV"
    },
    {
      "cell_type": "code",
      "source": [
        "start = time.perf_counter()\n",
        "# your algorithm here\n",
        "\n",
        "from sklearn.metrics import roc_curve\n",
        "\n",
        "# predict the class probabilities for each instance using the random forest model\n",
        "y_prob = clf.predict_proba(X_test)\n",
        "\n",
        "# consider each class as a positive class and the rest of the classes as negative\n",
        "n_classes = y_prob.shape[1]\n",
        "for i in range(n_classes):\n",
        "    j=i+1 \n",
        "    y_true = (y_test == j).astype(int)\n",
        "    fpr, tpr, _ = roc_curve(y_true, y_prob[:, i])\n",
        "    \n",
        "    plt.plot(fpr, tpr, label='Class %d ROC curve' % j)\n",
        "\n",
        "plt.xlabel('False Positive Rate (FPR)')\n",
        "plt.ylabel('True Positive Rate (TPR)')\n",
        "plt.title('ROC Curves for Random Forest Multi-Class Classifier')\n",
        "plt.legend()\n",
        "plt.show()\n",
        "\n",
        "\n",
        "end = time.perf_counter()\n",
        "print(\"Execution time:\", end - start)"
      ],
      "metadata": {
        "colab": {
          "base_uri": "https://localhost:8080/",
          "height": 312
        },
        "id": "wpPbt-qfn_vB",
        "outputId": "aead6b72-2039-42df-b2a8-613d5915c4ff"
      },
      "id": "wpPbt-qfn_vB",
      "execution_count": 239,
      "outputs": [
        {
          "output_type": "display_data",
          "data": {
            "text/plain": [
              "<Figure size 432x288 with 1 Axes>"
            ],
            "image/png": "[encoded data removed]"
          },
          "metadata": {
            "needs_background": "light"
          }
        },
        {
          "output_type": "stream",
          "name": "stdout",
          "text": [
            "Execution time: 3.0124667229974875\n"
          ]
        }
      ]
    }
  ],
  "metadata": {
    "kernelspec": {
      "display_name": "Python 3 (ipykernel)",
      "language": "python",
      "name": "python3"
    },
    "language_info": {
      "codemirror_mode": {
        "name": "ipython",
        "version": 3
      },
      "file_extension": ".py",
      "mimetype": "text/x-python",
      "name": "python",
      "nbconvert_exporter": "python",
      "pygments_lexer": "ipython3",
      "version": "3.9.12"
    },
    "colab": {
      "provenance": []
    }
  },
  "nbformat": 4,
  "nbformat_minor": 5
}